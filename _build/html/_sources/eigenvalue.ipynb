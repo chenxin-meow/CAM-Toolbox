{
  "cells": [
    {
      "cell_type": "markdown",
      "metadata": {
        "id": "4BmrteIKMOvz"
      },
      "source": [
        "# Eigenvalue Problems"
      ]
    },
    {
      "cell_type": "markdown",
      "metadata": {
        "id": "HO9gABZWMRYu"
      },
      "source": [
        "Given a linear transformation $f(x)=Ax$ mapping from $\\mathbb C^n$ to $\\mathbb C^m$, we are always interested in studying the eigenvalues and eigenvectors of $A$. This helps us to understand the characteristics of linear transformation. Moreover, the convergence analysis of iterative methods for solving linear system depends on the spectral radius of specific matrices, which also requires us to study the eigenvalues and eigenvectors. However, the analytical scheme to find eigenvalues needs to solve an $n$-th order polynomial characteristic equation. The computation is difficult when $A$ is a really large matrix. Therefore, applied mathematicians invent more sophisticated methods to solve the problem numerically. \n",
        "\n",
        "In this chapter, we will discuss two methods to solve the eigenvalue problem: Power method and QR method. Power method finds the largest dominant eigenvalue and its corresponding eigenvector, whereas QR method can find all the eigenvalues at the same time. These two methods, although look in huge difference, are the same from a more general perspective. We will discuss the relationship between Power method and QR method as well."
      ]
    },
    {
      "cell_type": "markdown",
      "metadata": {
        "id": "ZSbinXfoMZsC"
      },
      "source": [
        "## Power Method\n",
        "\n",
        "Consider a matrix $A\\in M_{n\\times n}(\\mathbb C)$ with $n$ eigenvalues $\\lambda_1, \\lambda_2, \\cdots, \\lambda_n$ and corresponding eigenvectors $\\vec x_1, \\vec x_2, \\cdots, \\vec x_n$. Suppose that $A$ is diagonalizable, that is, $\\vec x_1, \\vec x_2, \\cdots, \\vec x_n$ form a basis in $\\mathbb C^n$. Further assume that $|\\lambda_1|> |\\lambda_2|\\geq  \\cdots\\geq |\\lambda_n|$ (i.e. $\\lambda_1$ strictly dominates all other eigenvalues). \n",
        "\n",
        "\n",
        "\n",
        "Given an initial guess  $\\vec x^0=a_1\\vec x_1+a_2\\vec x_2+\\cdots+a_n\\vec x_n,\\ a_1\\neq 0$,  we consider an iterative scheme:\n",
        "\n",
        "$$\n",
        "\\vec x^{(k+1)}=\\frac{A\\vec x^{(k)}}{\\|A\\vec x^{(k)}\\|_{\\infty}}.\n",
        "$$\n",
        "\n",
        "It follows that\n",
        "\n",
        "$$\n",
        "\\vec x^{(k)}=\\frac{A\\vec x^{(k-1)}}{\\|A\\vec x^{(k-1)}\\|_{\\infty}}=\\frac{A\\frac{A\\vec x^{(k-2)}}{\\|A\\vec x^{(k-2)}\\|_{\\infty}}}{\\|A\\frac{A\\vec x^{(k-2)}}{\\|A\\vec x^{(k-2)}\\|_{\\infty}}\\|_{\\infty}}=\\frac{A^2\\vec x^{(k-2)}}{\\|A^2\\vec x^{(k-2)}\\|_{\\infty}}=\\cdots=\\frac{A^k\\vec x^{(0)}}{\\|A^k\\vec x^{(0)}\\|_{\\infty}}.\n",
        "$$\n",
        "\n",
        "Since\n",
        "\n",
        "$$\n",
        "\\begin{align*}\n",
        "A^k\\vec x^{(0)}&=a_1\\lambda_1^k\\vec x_1+a_2\\lambda_2^k\\vec x_2+\\cdots+a_n\\lambda_n^k\\vec x_n\\\\\n",
        "&=a_1\\lambda_1^k(\\vec x_1+\\sum_{j=2}^n\\frac{a_j}{a_1}(\\frac{\\lambda_j}{\\lambda_1})^k\\vec x_j),\n",
        "\\end{align*}\n",
        "$$\n",
        "\n",
        "we have\n",
        "\n",
        "$$\n",
        "\\begin{align*}\n",
        "\\vec x^{(k)}&=\\frac{A^k\\vec x^{(0)}}{\\|A^k\\vec x^{(0)}\\|_{\\infty}}\\\\\n",
        "&=\\frac{a_1\\lambda_1^k(\\vec x_1+\\sum_{j=2}^n\\frac{a_j}{a_1}(\\frac{\\lambda_j}{\\lambda_1})^k\\vec x_j)}{\\|a_1\\lambda_1^k(\\vec x_1+\\sum_{j=2}^n\\frac{a_j}{a_1}(\\frac{\\lambda_j}{\\lambda_1})^k\\vec x_j)\\|_{\\infty}}\\\\\n",
        "&\\to \\frac{a_1\\lambda_1^k\\vec x_1}{\\|a_1\\lambda_1^k\\vec x_1\\|_{\\infty}}\\qquad\\qquad\\text{as }k\\to \\infty\\\\\n",
        "&=\\frac{a_1\\lambda_1^k}{|a_1||\\lambda_1^k|\\|\\vec x_1\\|_{\\infty}}\\vec x_1.\n",
        "\\end{align*}\n",
        "$$\n",
        "\n",
        "Note that $\\vec x_1$ is the eigenvector corresponding with the largest eigenvalue, and $\\vec x^{(k)}$ converges to the direction of $\\vec x_1$.\n",
        "\n",
        "Moreover, observe that\n",
        "\n",
        "$$\n",
        "\\begin{align*}\n",
        "\\|A\\vec x^{(k)}\\|_{\\infty} &\\to \\| \\frac{a_1\\lambda_1^k}{|a_1||\\lambda_1^k|\\|\\vec x_1\\|_{\\infty}}\\cdot A\\vec x_1\\|_{\\infty}\\\\\n",
        "&=\\| \\frac{1}{\\|\\vec x_1\\|_{\\infty}}\\cdot \\lambda_1\\vec x_1\\|_{\\infty}\\\\\n",
        "&=|\\lambda_1|\\qquad\\qquad\\text{as }k\\to \\infty\\\\\n",
        "\\end{align*}\n",
        "$$\n",
        "\n",
        "that is, $\\|A\\vec x^{(k)}\\|_{\\infty}$ converges to the largest eigenvalue $|\\lambda_1|$.\n",
        "\n",
        "Now we can formulate the Power method as follows."
      ]
    },
    {
      "cell_type": "markdown",
      "metadata": {
        "id": "l8VN4yc-Mfis"
      },
      "source": [
        "### Algorithm 1 (Power Method)\n",
        "Goal: find the largest eigenvalue in magnitude of $A$.\n",
        "\n",
        "1. Initialization: $\\vec x^{(0)}=a_1\\vec x_1+a_2\\vec x_2+\\cdots+a_n\\vec x_n,\\ a_1\\neq 0$.\n",
        "\n",
        "2. For $k=1,2,\\cdots$, repeat until convergence:\n",
        "   * Compute $\\vec x^{(k)}=\\frac{A\\vec x^{(k-1)}}{\\|A\\vec x^{(k-1)}\\|_{\\infty}}.$\n",
        "   * Compute $\\rho_k=\\|A\\vec x^{(k)}\\|_{\\infty}$.\n",
        "\n",
        "Then $\\rho_k\\to |\\lambda_1|$ as $k\\to \\infty$.\n",
        "\n",
        "Remark: In fact, if $\\lambda_1$ has multiplicity greater than 1, i.e.  $|\\lambda_1|=\\cdots=|\\lambda_i|>|\\lambda_{i+1}|\\geq  \\cdots\\geq |\\lambda_n|$, Power method also works, and the proof is similar to the above."
      ]
    },
    {
      "cell_type": "markdown",
      "metadata": {
        "id": "E1z7nSE-hGjg"
      },
      "source": [
        "### Code demo"
      ]
    },
    {
      "cell_type": "code",
      "execution_count": 1,
      "metadata": {
        "id": "ynSYNuGHhE_4"
      },
      "outputs": [],
      "source": [
        "import numpy as np\n",
        "import random\n",
        "\n",
        "def power(A,tol=10**(-7),N=100,x=None,seed=10):\n",
        "  \"\"\"Finding the dominated eigenvalue of A via the Power method.\"\"\"\n",
        "\n",
        "  random.seed(seed)\n",
        "\n",
        "  # initilize x\n",
        "  n=A.shape[1]\n",
        "  x=np.random.rand(n,1)\n",
        "  x=x/max(abs(x))\n",
        "  rho=max(abs(A@x))\n",
        "\n",
        "  # iterate for N times \n",
        "  for i in range(N):\n",
        "    # power iteration\n",
        "    x_iter = A@x/max(abs(A@x))\n",
        "    rho_iter=max(abs(A@x_iter))\n",
        "    x = x_iter\n",
        "\n",
        "    # check for convergence\n",
        "    tol_iter = abs(rho_iter-rho)\n",
        "    if(tol_iter < tol): \n",
        "      rho = rho_iter\n",
        "      break\n",
        "    rho = rho_iter\n",
        "\n",
        "  x = np.transpose(x)\n",
        "\n",
        "  return x, rho, i, tol_iter\n"
      ]
    },
    {
      "cell_type": "markdown",
      "metadata": {
        "id": "aK0nbLotiNip"
      },
      "source": [
        "Consider the matrix $A=\\begin{pmatrix}\n",
        "5 & -2 & 3\\\\\n",
        "-3 & 9 & 1\\\\\n",
        "2 & -1 & -7\\\\\n",
        "\\end{pmatrix}$."
      ]
    },
    {
      "cell_type": "code",
      "execution_count": 2,
      "metadata": {
        "colab": {
          "base_uri": "https://localhost:8080/"
        },
        "id": "2Yiayvndiwwh",
        "outputId": "dafc7d23-32e4-4550-fc57-21cbd0c0802f"
      },
      "outputs": [
        {
          "name": "stdout",
          "output_type": "stream",
          "text": [
            "The dominated eigenvalue = 10.2271\n",
            "The corresponding eigenvector =  [[-0.44562945  1.         -0.10978393]]\n",
            "Iteration =  56\n",
            "Tolerence =  [8.30517877e-08]\n"
          ]
        }
      ],
      "source": [
        "A = np.array([[5,-2,3],[-3,9,1],[2,-1,-7]])\n",
        "sol_power=power(A)\n",
        "print('The dominated eigenvalue = %0.4f' %(sol_power[1]))\n",
        "print('The corresponding eigenvector = ', sol_power[0])\n",
        "print('Iteration = ', sol_power[2])\n",
        "print('Tolerence = ', sol_power[3])"
      ]
    },
    {
      "cell_type": "markdown",
      "metadata": {
        "id": "IBWgbuYJqhCt"
      },
      "source": [
        "From the code above, the dominated eigenvalue is $|\\lambda_1|=10.2271$.\n",
        "\n"
      ]
    },
    {
      "cell_type": "markdown",
      "metadata": {
        "id": "VDXtac5qMsRe"
      },
      "source": [
        "### Power method in matrix form\n",
        "\n",
        "We can also analyze the Power method in matrix form. This will help us to extend Power method to the case that $A$ is non-diagonalizable. But before that, let's re-visit the Power method when $A$ is diagonalizable.\n",
        "\n",
        "Suppose $A\\in M_{n\\times n}(\\mathbb C)$ has $n$ eigenvalues $\\lambda_1, \\lambda_2, \\cdots, \\lambda_n$ and corresponding eigenvectors $\\vec x_1, \\vec x_2, \\cdots, \\vec x_n$. Assume that $|\\lambda_1|> |\\lambda_2|\\geq  \\cdots\\geq |\\lambda_n|$.\n",
        "\n",
        "Write $Q=(\\vec x_1, \\vec x_2, \\cdots, \\vec x_n)\\in M_{n\\times n}(\\mathbb C)$, then $A$ can be diagonalized into\n",
        "\n",
        "$$\n",
        "A=Q\n",
        "\\begin{pmatrix}\n",
        "\\lambda_1 & &\\\\\n",
        "&\\ddots &\\\\\n",
        "& & \\lambda_n\n",
        "\\end{pmatrix}\n",
        "Q^{-1}.\n",
        "$$\n",
        "\n",
        "The initial guess\n",
        "$$\n",
        "\\vec x^0=a_1\\vec x_1+\\cdots+a_n\\vec x_n=Q\\begin{pmatrix}a_1\\\\ \\vdots\\\\ a_n\\end{pmatrix},\\ a_1\\neq 0.\n",
        "$$"
      ]
    },
    {
      "cell_type": "markdown",
      "metadata": {
        "id": "57AD3ZlrM_t7"
      },
      "source": [
        "We consider the iterative scheme in the Power method.\n",
        "\n",
        "$$\n",
        "\\begin{align*}\n",
        "A^k\\vec x^{(0)}&=Q\\begin{pmatrix}\n",
        "\\lambda_1 & &\\\\\n",
        "&\\ddots &\\\\\n",
        "& & \\lambda_n\n",
        "\\end{pmatrix}Q^{-1} Q\\begin{pmatrix}a_1\\\\ \\vdots\\\\ a_n\\end{pmatrix}\\\\\n",
        "&=Q\\begin{pmatrix}a_1\\lambda_1^k\\\\ a_2\\lambda_2^k\\\\ \\vdots\\\\ a_n\\lambda_n^k\\end{pmatrix}=a_1\\lambda_1^kQ \\begin{pmatrix} 1\\\\ \\frac{a_2}{a_1}(\\frac{\\lambda_2}{\\lambda_1})^k\\\\ \\vdots\\\\ \\frac{a_n}{a_1}(\\frac{\\lambda_n}{\\lambda_1})^k\\end{pmatrix}\\\\\n",
        "&\\to a_1\\lambda_1^kQ \\begin{pmatrix}1\\\\ 0\\\\ \\vdots\\\\ 0\\end{pmatrix} \\qquad\\text{as }k\\to \\infty\\\\\n",
        "&=a_1\\lambda_1^k \\vec x_1.\n",
        "\\end{align*}\n",
        "$$\n",
        "\n",
        "Then, \n",
        "$$\n",
        "\\begin{align*}\n",
        "\\vec x^{(k)}=\\frac{A^k\\vec x^{(0)}}{\\|A^k\\vec x^{(0)}\\|_{\\infty}}\\to\\frac{a_1\\lambda_1^k}{|a_1||\\lambda_1^k|\\|\\vec x_1\\|_{\\infty}}\\vec x_1,\n",
        "\\end{align*}\n",
        "$$\n",
        "\n",
        "$$\n",
        "\\begin{align*}\n",
        "\\|A\\vec x^{(k)}\\|_{\\infty} &\\to \\| \\frac{a_1\\lambda_1^k}{|a_1||\\lambda_1^k|\\|\\vec x_1\\|_{\\infty}}\\cdot A\\vec x_1\\|_{\\infty}\\\\\n",
        "&=\\| \\frac{1}{\\|\\vec x_1\\|_{\\infty}}\\cdot \\lambda_1\\vec x_1\\|_{\\infty}\\\\\n",
        "&=|\\lambda_1|\\qquad\\text{as }k\\to \\infty.\\\\\n",
        "\\end{align*}\n",
        "$$"
      ]
    },
    {
      "cell_type": "markdown",
      "metadata": {
        "id": "Ghq6vo7LOcSS"
      },
      "source": [
        "We have discussed the case that $A$ is diagonalizable. When $A$ is non-diagonalizable, Power method also works well, but we need a different formulation of $A$'s diagonalization.\n",
        "\n",
        "In fact, whether $A$ is diagonalizable or not, we can always \"diagonalize\" $A$ into\n",
        "\n",
        "$$\n",
        "A=QJQ^{-1},\n",
        "$$\n",
        "\n",
        "where $Q=(\\vec x_1, \\vec x_2, \\cdots, \\vec x_n)$. Here $\\vec x_1, \\cdots, \\vec x_n$ are the basis of the generalized eigenvecor with eigenvalues $\\lambda_1,\\cdots,\\lambda_n$ ; and $J$ is the **Jordan normal form** (block diagonal matrix)\n",
        "\n",
        "$$\n",
        "J=\\begin{pmatrix}\n",
        "\\lambda_1 & & &\\\\\n",
        "&[J(\\lambda_{i_1})]& & &\\\\\n",
        "& & \\ddots &\\\\\n",
        "& & &[J(\\lambda_{i_l})]\n",
        "\\end{pmatrix},\n",
        "$$\n",
        "\n",
        "and the Jordan block can be written as\n",
        "\n",
        "$$\n",
        "J(\\lambda_{i_j})=\\begin{pmatrix}\n",
        "\\lambda_{i_j} & 1& & &\\\\\n",
        "&\\lambda_{i_j}& 1& & &\\\\\n",
        "& & \\ddots & \\ddots\\\\\n",
        "& & & \\ddots&1\\\\\n",
        "& & & &\\lambda_{i_j}\n",
        "\\end{pmatrix}.\n",
        "$$\n",
        "\n",
        "\n",
        "\n",
        "The initial guess\n",
        "$$\n",
        "\\vec x^0=a_1\\vec x_1+\\cdots+a_n\\vec x_n=Q\\begin{pmatrix}a_1\\\\ \\vdots\\\\ a_n\\end{pmatrix},\\ a_1\\neq 0.\n",
        "$$\n",
        "\n",
        "We consider the iterative scheme \n",
        "\n",
        "$$\n",
        "\\vec x^{(k)}=\\frac{A^k\\vec x^{(0)}}{\\|A^k\\vec x^{(0)}\\|_{\\infty}}\n",
        "$$\n",
        "\n",
        "in the Power method. Then\n",
        "\n",
        "\n",
        "\n"
      ]
    },
    {
      "cell_type": "markdown",
      "metadata": {
        "id": "NJA42w_KOvkD"
      },
      "source": [
        "$$\n",
        "\\begin{align*}\n",
        "A^k\\vec x^{(0)}&=QJ^kQ^{-1}Q\\begin{pmatrix}a_1\\\\ \\vdots\\\\ a_n\\end{pmatrix}=QJ^k\\begin{pmatrix}a_1\\\\ \\vdots\\\\ a_n\\end{pmatrix}\\\\\n",
        "&=Q\\begin{pmatrix}\n",
        "\\lambda_1^k & & &\\\\\n",
        "&[J(\\lambda_{i_1})]^k& & &\\\\\n",
        "& & \\ddots &\\\\\n",
        "& & &[J(\\lambda_{i_l})]^k\n",
        "\\end{pmatrix}\n",
        "\\begin{pmatrix}a_1\\\\ a_2 \\\\ \\vdots\\\\ a_n\\end{pmatrix}\\\\\n",
        "&=Q\\begin{pmatrix}\n",
        "a_1\\lambda_1^k \\\\\n",
        "\\begin{pmatrix}\n",
        "[J(\\lambda_{i_1})]^k & &\\\\\n",
        "&\\ddots&\\\\\n",
        "& & [J(\\lambda_{i_l})]^k\n",
        "\\end{pmatrix}\n",
        "\\begin{pmatrix} a_2 \\\\ \\vdots\\\\ a_n\\end{pmatrix}\n",
        "\\end{pmatrix}\\\\\n",
        "&=a_1\\lambda_1^kQ\n",
        "\\begin{pmatrix}\n",
        "1 \\\\\n",
        "\\frac{1}{a_1}\\begin{pmatrix}\n",
        "[\\frac{J(\\lambda_{i_1})}{\\lambda_1}]^k & &\\\\\n",
        "&\\ddots&\\\\\n",
        "& & \\frac{J(\\lambda_{i_l})}{\\lambda_1}]^k\n",
        "\\end{pmatrix}\n",
        "\\begin{pmatrix} a_2 \\\\ \\vdots\\\\ a_n\\end{pmatrix}\n",
        "\\end{pmatrix}\\\\\n",
        "&\\to a_1\\lambda_1^kQ \\begin{pmatrix}1\\\\ 0\\\\\\vdots\\\\ 0\\end{pmatrix} \\qquad\\text{as }k\\to \\infty\\\\\n",
        "&=a_1\\lambda_1^k \\vec x_1.\n",
        "\\end{align*}\n",
        "$$"
      ]
    },
    {
      "cell_type": "markdown",
      "metadata": {
        "id": "9Q727Fy5PGkF"
      },
      "source": [
        "Therefore, \n",
        "\n",
        "$$\n",
        "\\begin{align*}\n",
        "\\vec x^{(k)}=\\frac{A^k\\vec x^{(0)}}{\\|A^k\\vec x^{(0)}\\|_{\\infty}}\\to \\frac{a_1\\lambda_1^k}{|a_1||\\lambda_1^k|\\|\\vec x_1\\|_{\\infty}}\\vec x_1,\n",
        "\\end{align*}\n",
        "$$\n",
        "\n",
        "Hence $\\vec x^{(k)}$ converges to the direction of $\\vec x_1$, the eigenvector corresponding with the largest eigenvalue, and \n",
        "\n",
        "$$\n",
        "\\begin{align*}\n",
        "\\|A\\vec x^{(k)}\\|_{\\infty} &\\to \\| \\frac{a_1\\lambda_1^k}{|a_1||\\lambda_1^k|\\|\\vec x_1\\|_{\\infty}}\\cdot A\\vec x_1\\|_{\\infty}\\\\\n",
        "&=\\| \\frac{1}{\\|\\vec x_1\\|_{\\infty}}\\cdot \\lambda_1\\vec x_1\\|_{\\infty}\\\\\n",
        "&=|\\lambda_1|\\qquad\\qquad\\text{as }k\\to \\infty,\\\\\n",
        "\\end{align*}\n",
        "$$\n",
        "\n",
        "that is, $\\|A\\vec x^{(k)}\\|_{\\infty}$ converges to the largest eigenvalue $|\\lambda_1|$."
      ]
    },
    {
      "cell_type": "markdown",
      "metadata": {
        "id": "9PxkkvZVPJYg"
      },
      "source": [
        "### Inverse Power Method\n",
        "\n",
        "Power method is powerful. Besides finding the largest eigenvalue, it can also be extended to get the smallest eigenvalue. \n",
        "\n",
        "\n",
        "Consider a matrix $A$ with eigenvalues $|\\lambda_1|\\geq  |\\lambda_2|\\geq  \\cdots\\geq |\\lambda_{n-1}|> |\\lambda_n|$. Then its inverse $A^{-1}$ has eigenvalues $|\\frac{1}{\\lambda_n}|>|\\frac{1}{\\lambda_{n-1}}|\\geq \\cdots |\\frac{1}{\\lambda_1}|$. Intuitively, we can apply the Power method on $A^{-1}$ to get the largest eigenvalue $|\\frac{1}{\\lambda_n}|$ of $A^{-1}$, then we find the smallest eigenvalue $|\\lambda_n|$ of$A$.\n",
        "\n",
        "However, directly computing $A^{-1}$ is hard. Instead of computing $A^{-1}$ explicitly, in each iteration, we solve $A\\vec y=\\vec x^{(k-1)}$ to determine $A^{-1} x^{(k-1)}$."
      ]
    },
    {
      "cell_type": "markdown",
      "metadata": {
        "id": "5fJQuqirPOIu"
      },
      "source": [
        "#### Algorithm 2 (Inverse Power Method)\n",
        "Goal: find the smallest eigenvalue in magnitude of $A$.\n",
        "\n",
        "1. Initialization: Pick $\\vec x^{(0)}$ (usually with $\\|\\vec x^{(0)}\\|_{\\infty}=1$).\n",
        "\n",
        "2. For $k=1,2,\\cdots$, repeat until convergence:\n",
        "   * Solve $A\\vec y=\\vec x^{(k-1)}$.\n",
        "   * Compute $\\vec x^{(k)}=\\frac{\\vec y}{\\|\\vec y\\|_{\\infty}}.$\n",
        "   * Compute $\\rho_k=\\|A\\vec x^{(k)}\\|_{\\infty}$.\n",
        "\n",
        "Then $\\rho_k\\to |\\lambda_n|$ as $k\\to \\infty$."
      ]
    },
    {
      "cell_type": "markdown",
      "metadata": {
        "id": "txo2Z4Z5rOap"
      },
      "source": [
        "#### Code demo"
      ]
    },
    {
      "cell_type": "code",
      "execution_count": 3,
      "metadata": {
        "id": "IG5O-L30rP1S"
      },
      "outputs": [],
      "source": [
        "def inverse_power(A,tol=10**(-7),N=100,x=None,seed=10):\n",
        "  \"\"\"Finding the smallest eigenvalue of A via the Inverse Power method.\"\"\"\n",
        "  \n",
        "  random.seed(seed)\n",
        "\n",
        "  # initilize x\n",
        "  n=A.shape[1]\n",
        "  x=np.random.rand(n,1)\n",
        "  x=x/max(abs(x))\n",
        "  rho=max(abs(A@x))\n",
        "\n",
        "  # iterate for N times \n",
        "  for i in range(N):\n",
        "    # inverse power iteration\n",
        "    y=np.linalg.solve(A,x)\n",
        "    x_iter = y/max(abs(y))\n",
        "    rho_iter=max(abs(A@x_iter))\n",
        "    x = x_iter\n",
        "\n",
        "    # check for convergence\n",
        "    tol_iter = abs(rho_iter-rho)\n",
        "    if(tol_iter < tol): \n",
        "      rho = rho_iter\n",
        "      break\n",
        "    rho = rho_iter\n",
        "\n",
        "  x = np.transpose(x)\n",
        "\n",
        "  return x, rho, i, tol_iter\n"
      ]
    },
    {
      "cell_type": "markdown",
      "metadata": {
        "id": "BKQ9_0c0r4j2"
      },
      "source": [
        "Consider the matrix $A=\\begin{pmatrix}\n",
        "5 & -2 & 3\\\\\n",
        "-3 & 9 & 1\\\\\n",
        "2 & -1 & -7\\\\\n",
        "\\end{pmatrix}$."
      ]
    },
    {
      "cell_type": "code",
      "execution_count": 4,
      "metadata": {
        "colab": {
          "base_uri": "https://localhost:8080/"
        },
        "id": "s6wfsl29r1kN",
        "outputId": "0ee6ed00-f85c-4bc9-c5c4-102a2b0e0e55"
      },
      "outputs": [
        {
          "name": "stdout",
          "output_type": "stream",
          "text": [
            "The smallest eigenvalue = 4.1830\n",
            "The corresponding eigenvector =  [[1.         0.59674018 0.12548192]]\n",
            "Iteration =  31\n",
            "Tolerence =  [9.96206682e-08]\n"
          ]
        }
      ],
      "source": [
        "sol_inverse_power=inverse_power(A)\n",
        "print('The smallest eigenvalue = %0.4f' %(sol_inverse_power[1]))\n",
        "print('The corresponding eigenvector = ', sol_inverse_power[0])\n",
        "print('Iteration = ', sol_inverse_power[2])\n",
        "print('Tolerence = ', sol_inverse_power[3])"
      ]
    },
    {
      "cell_type": "markdown",
      "metadata": {
        "id": "VXfrcsV4scje"
      },
      "source": [
        "From the code above, the smallest eigenvalue is $|\\lambda_n|=4.1830$."
      ]
    },
    {
      "cell_type": "markdown",
      "metadata": {
        "id": "pEeJC9juPPhX"
      },
      "source": [
        "\n",
        "### Inverse Power Method with Shift\n",
        "\n",
        "Other than the smallest/largest eigenvalues, sometimes we are also interested in eigenvalues in between. Given a constant $\\mu$, can we find the eigenvalue of $A$ that closet to $\\mu$? The answer is very simple. \n",
        "\n",
        "Simply consider $B=A-\\mu I$, then $B$ has eigenvalues $\\lambda_1-\\mu,\\lambda_2-\\mu,\\cdots,\\lambda_n-\\mu$. We can apply the Inverse Power Method on $B$ to find the smallest $|\\lambda_j-\\mu|$. This method is called the Inverse Power Method with Shift.\n"
      ]
    },
    {
      "cell_type": "markdown",
      "metadata": {
        "id": "XrZXT4S6PRxk"
      },
      "source": [
        "\n",
        "#### Algorithm 3 (Inverse Power Method with Shift)\n",
        "Goal: Take $\\mu \\in \\mathbb R$, find the eigenvalue of $A$ that closet to $\\mu$.\n",
        "\n",
        "1. Initialization: Pick $\\vec x^{(0)}$ (usually with $\\|\\vec x^{(0)}\\|_{\\infty}=1$).\n",
        "\n",
        "2. For $k=1,2,\\cdots$, repeat until convergence:\n",
        "   * Solve $(A-\\mu I)\\vec y=\\vec x^{(k-1)}$.\n",
        "   * Compute $\\vec x^{(k)}=\\frac{\\vec y}{\\|\\vec y\\|_{\\infty}}.$\n",
        "   * Compute $\\rho_k=\\|A\\vec x^{(k)}\\|_{\\infty}$.\n",
        "\n",
        "Then $\\rho_k\\to |\\lambda_n|$ as $k\\to \\infty$."
      ]
    },
    {
      "cell_type": "markdown",
      "metadata": {
        "id": "WlVXOPH_srSj"
      },
      "source": [
        "#### Code demo"
      ]
    },
    {
      "cell_type": "code",
      "execution_count": 5,
      "metadata": {
        "id": "0RjInjEyspjO"
      },
      "outputs": [],
      "source": [
        "def inverse_power_shift(A,mu,tol=10**(-7),N=100,x=None,seed=10):\n",
        "  \"\"\"Finding the eigenvalue of A that closet to mu via the Inverse Power method with Shift.\"\"\"\n",
        "  \n",
        "  random.seed(seed)\n",
        "\n",
        "  # initilize x\n",
        "  n=A.shape[1]\n",
        "  x=np.random.rand(n,1)\n",
        "  x=x/max(abs(x))\n",
        "  rho=max(abs(A@x))\n",
        "\n",
        "  # iterate for N times \n",
        "  for i in range(N):\n",
        "    # inverse power iteration\n",
        "    y=np.linalg.solve(A-mu*np.identity(n),x)\n",
        "    x_iter = y/max(abs(y))\n",
        "    rho_iter=max(abs(A@x_iter))\n",
        "    x = x_iter\n",
        "\n",
        "    # check for convergence\n",
        "    tol_iter = abs(rho_iter-rho)\n",
        "    if(tol_iter < tol): \n",
        "      rho = rho_iter\n",
        "      break\n",
        "    rho = rho_iter\n",
        "\n",
        "  x = np.transpose(x)\n",
        "\n",
        "  return x, rho, i, tol_iter\n"
      ]
    },
    {
      "cell_type": "markdown",
      "metadata": {
        "id": "nAjmvM4EtHui"
      },
      "source": [
        "Consider the matrix $A=\\begin{pmatrix}\n",
        "5 & -2 & 3\\\\\n",
        "-3 & 9 & 1\\\\\n",
        "2 & -1 & -7\\\\\n",
        "\\end{pmatrix}$. Suppose we want to find eigenvalue of $A$ that closet to $\\mu=6$."
      ]
    },
    {
      "cell_type": "code",
      "execution_count": 6,
      "metadata": {
        "colab": {
          "base_uri": "https://localhost:8080/"
        },
        "id": "_7qvdDqKtLIR",
        "outputId": "0d14cb69-972c-4fce-be80-34077192617a"
      },
      "outputs": [
        {
          "name": "stdout",
          "output_type": "stream",
          "text": [
            "The eigenvalue that closet to mu = 4.1830\n",
            "The corresponding eigenvector =  [[1.         0.59674019 0.12548191]]\n",
            "Iteration =  21\n",
            "Tolerence =  [6.68971438e-08]\n"
          ]
        }
      ],
      "source": [
        "sol_inverse_power_shift=inverse_power_shift(A,mu=6)\n",
        "print('The eigenvalue that closet to mu = %0.4f' %(sol_inverse_power_shift[1]))\n",
        "print('The corresponding eigenvector = ', sol_inverse_power_shift[0])\n",
        "print('Iteration = ', sol_inverse_power_shift[2])\n",
        "print('Tolerence = ', sol_inverse_power_shift[3])"
      ]
    },
    {
      "cell_type": "markdown",
      "metadata": {
        "id": "fr9C-RJwuIhI"
      },
      "source": [
        "From the code above, the eigenvalue that closet to $\\mu=6$ is $|\\lambda|=4.1830$.\n",
        "\n"
      ]
    },
    {
      "cell_type": "markdown",
      "metadata": {
        "id": "vPNcU76fPYnp"
      },
      "source": [
        "\n",
        "### Convergence Analysis of Power Method \n",
        "\n",
        "In Power Method, when updating $\\vec x^{(k)}$, we have\n",
        "\n",
        "$$\n",
        "\\vec x^{(k)}=\n",
        "\\frac{a_1\\lambda_1^k(\\vec x_1+\\sum_{j=2}^n\\frac{a_j}{a_1}(\\frac{\\lambda_j}{\\lambda_1})^k\\vec x_j)}{\\|a_1\\lambda_1^k(\\vec x_1+\\sum_{j=2}^n\\frac{a_j}{a_1}(\\frac{\\lambda_j}{\\lambda_1})^k\\vec x_j)\\|_{\\infty}}\\to \\frac{a_1\\lambda_1^k\\vec x_1}{\\|a_1\\lambda_1^k\\vec x_1\\|_{\\infty}}\\qquad\\text{as }k\\to \\infty\\\\\n",
        "$$\n",
        "\n",
        "Note that \n",
        "$$\n",
        "1>|\\frac{\\lambda_2}{\\lambda_1}|>|\\frac{\\lambda_3}{\\lambda_1}|>\\cdots>|\\frac{\\lambda_n}{\\lambda_1}|,\n",
        "$$\n",
        "\n",
        "The convergence rate depends on $\\eta:=|\\frac{\\lambda_2}{\\lambda_1}|$.\n",
        "\n",
        "Now let's look into three Power Methods mentioned above. Suppose $A$ has eigenvalues $|\\lambda_1|>|\\lambda_2|>\\cdots |\\lambda_n|$ with corresponding eigenvectors $\\vec v_1, \\vec v_2, \\cdots, \\vec v_n$.\n",
        "\n",
        "1. Power Method\n",
        "   * Converges if $\\eta:=|\\frac{\\lambda_2}{\\lambda_1}|<1$ and $\\langle \\vec v_1,\\vec x^{(0)}\\rangle \\neq 0$ ($\\vec v_1$ is the eigenvector of $\\lambda_1$).\n",
        "   * $\\rho_k=\\|A\\vec x^{(k)}\\|_{\\infty}=|\\lambda_1+\\mathcal{O}(\\eta^k)|$, slow convergence if $\\eta \\approx 1$.\n",
        "2. Inverse Power Method\n",
        "   * Converges if $\\eta:=|\\frac{1/\\lambda_{n-1}}{1/\\lambda_n}|=|\\frac{\\lambda_{n}}{\\lambda_{n-1}}|<1$ and $\\langle \\vec v_n,\\vec x^{(0)}\\rangle \\neq 0$ ($\\vec v_n$ is the eigenvector of $\\lambda_n$).\n",
        "   * $\\rho_k=\\|A\\vec x^{(k)}\\|_{\\infty}=|\\lambda_n+\\mathcal{O}(\\eta^k)|$, slow convergence if $\\eta \\approx 1$.\n",
        "3. Inverse Power Method with Shift\n",
        "   * Let $\\lambda_j$ be the eigenvalue closet to $\\mu$.\n",
        "   * Converges if $\\eta:=\\max_{m\\neq j}|\\frac{\\lambda_{j}-\\mu}{\\lambda_{m}-\\mu}|<1$ and $\\langle \\vec v_j,\\vec x^{(0)}\\rangle \\neq 0$ ($\\vec v_j$ is the eigenvector of $\\lambda_j$).\n",
        "   * $\\rho_k=\\|A\\vec x^{(k)}\\|_{\\infty}=|\\lambda_j+\\mathcal{O}(\\eta^k)|$, slow convergence if $\\eta \\approx 1$.\n",
        "\n",
        "\n",
        "In all the methods above, if $\\eta \\approx 1$, then the convergence is slow. But in some cases, we can actually speed up the convergence. Let's focus on the Inverse Power Method with Shift.\n"
      ]
    },
    {
      "cell_type": "markdown",
      "metadata": {
        "id": "xdOZygeEPacz"
      },
      "source": [
        "\n",
        "### Rayleigh Quotient Iteration\n",
        "\n",
        "When using Inverse Power Method with Shift, we can update $\\mu$ in each iteration such that $\\mu$ is closer to a real eigenvalue in each iteration. Then, $\\eta:=\\max_{m\\neq j}|\\frac{\\lambda_{j}-\\mu}{\\lambda_{m}-\\mu}|$ will become smaller and smaller, so that the convergence is faster and faster.\n",
        "\n",
        "\n",
        "\n",
        "**Definition 1 (Rayleigh Quotient)** Let a non-zero vector $\\vec v\\in \\mathbb C, A\\in M_{n\\times n} (\\mathbb C)$. Then the Rayleigh quotient is defined as \n",
        "\n",
        "$$\n",
        "R(\\vec v, A)=\\frac{\\vec v^* A\\vec v}{\\vec v^* \\vec v}.\n",
        "$$\n",
        "\n",
        "Remark: Let $A$ be a symmetric positive definite (SPD) matrix, then all eigenvalues $\\lambda_1\\geq \\cdots\\geq \\lambda_n$ are real, and\n",
        "\n",
        "* $\\lambda_n\\leq R(\\vec v, A) \\leq \\lambda_1$;\n",
        "* $R(\\vec v, A)=\\lambda_j$ when $\\vec v=\\vec v_j=$ eigenvalue of $\\lambda_j$.\n",
        "  \n",
        "Therefore, the  Rayleigh quotient $R(\\vec v, A)$ can be regarded as an approximation of the eigenvalue $\\lambda_j$, given that $\\vec v$ is close to $\\vec v_j$."
      ]
    },
    {
      "cell_type": "markdown",
      "metadata": {
        "id": "GIFJCgWhPmb4"
      },
      "source": [
        "#### Algorithm 4 (Rayleigh Quotient Iteration)\n",
        "\n",
        "Goal: Take $\\mu \\in \\mathbb R$, find the eigenvalue of $A$ that closet to $\\mu$.\n",
        "\n",
        "1. Input: $\\vec x^{(0)}$ with $\\|\\vec x^{(0)}\\|_2=1$, and $\\mu_0=\\mu$ is the initial guess of desired eigenvalue.\n",
        "\n",
        "\n",
        "2. For $k=1,2,\\cdots$, repeat until convergence:\n",
        "   * Solve $(A-\\mu_k I)\\vec y=\\vec x^{(k-1)}$.\n",
        "   * Compute $\\vec x^{(k)}=\\frac{\\vec y}{\\|\\vec y\\|_{2}}.$\n",
        "   * Compute $\\mu_k=R(\\vec x^{(k)}, A)=\\frac{\\vec x^{(k)*} A\\vec  x^{(k)}}{\\vec x^{(k)*} \\vec x^{(k)}}$.\n",
        "\n",
        "3. Output: $\\mu_k$ is the eigenvalue of $A$ that closet to $\\mu$.\n"
      ]
    },
    {
      "cell_type": "markdown",
      "metadata": {
        "id": "JHYwzanfxi83"
      },
      "source": [
        "#### Code demo"
      ]
    },
    {
      "cell_type": "code",
      "execution_count": 7,
      "metadata": {
        "id": "6f5SyfUtu7js"
      },
      "outputs": [],
      "source": [
        "def RQI(A,mu,tol=10**(-7),N=100,x=None,seed=10):\n",
        "  \"\"\"Finding the eigenvalue of A that closet to mu via the Rayleigh Quotient Iteration.\"\"\"\n",
        "  \n",
        "  random.seed(seed)\n",
        "\n",
        "  # initilize x\n",
        "  n=A.shape[1]\n",
        "  x=np.random.rand(n,1)\n",
        "  x=x/np.linalg.norm(x)\n",
        "\n",
        "  # iterate for N times \n",
        "  for i in range(N):\n",
        "    # inverse power iteration\n",
        "    y=np.linalg.solve(A-mu*np.identity(n),x)\n",
        "    x_iter = y/np.linalg.norm(y)\n",
        "    mu_iter= (np.transpose(x_iter)@A@x_iter)/(np.transpose(x_iter)@x_iter)\n",
        "    x = x_iter\n",
        "\n",
        "    # check for convergence\n",
        "    tol_iter = abs(mu_iter-mu)\n",
        "    if(tol_iter < tol): \n",
        "      mu = mu_iter\n",
        "      break\n",
        "    mu = mu_iter\n",
        "\n",
        "  x = np.transpose(x)\n",
        "\n",
        "  return x, mu, i, tol_iter\n"
      ]
    },
    {
      "cell_type": "markdown",
      "metadata": {
        "id": "Y_ovQAjLxp14"
      },
      "source": [
        "Consider the matrix $A=\\begin{pmatrix}\n",
        "5 & -2 & 3\\\\\n",
        "-3 & 9 & 1\\\\\n",
        "2 & -1 & -7\\\\\n",
        "\\end{pmatrix}$. Suppose we want to find eigenvalue of $A$ that closet to $\\mu=6$."
      ]
    },
    {
      "cell_type": "code",
      "execution_count": 8,
      "metadata": {
        "colab": {
          "base_uri": "https://localhost:8080/"
        },
        "id": "ZmuPAhrnwj-0",
        "outputId": "9457526c-0476-472d-b29b-5d74bbe7972b"
      },
      "outputs": [
        {
          "name": "stdout",
          "output_type": "stream",
          "text": [
            "The eigenvalue that closet to mu = 4.1830\n",
            "The corresponding eigenvector =  [[-0.85378309 -0.50948667 -0.10713433]]\n",
            "Iteration =  4\n",
            "Tolerence =  [[3.73034936e-12]]\n"
          ]
        }
      ],
      "source": [
        "sol_RQI=RQI(A,mu=6)\n",
        "print('The eigenvalue that closet to mu = %0.4f' %(sol_RQI[1]))\n",
        "print('The corresponding eigenvector = ', sol_RQI[0])\n",
        "print('Iteration = ', sol_RQI[2])\n",
        "print('Tolerence = ', sol_RQI[3])"
      ]
    },
    {
      "cell_type": "markdown",
      "metadata": {
        "id": "baYEJK6Awy9m"
      },
      "source": [
        "From the code above, the eigenvalue that closet to $\\mu=6$ is $|\\lambda|=4.1830$. Note that the Rayleigh Quotient Iteration converges in only 3 iterations! Actually the Rayleigh Quotient Iteration has a cubic convergence, which is rare in numerical methods.\n"
      ]
    },
    {
      "cell_type": "markdown",
      "metadata": {
        "id": "mbZbALwIPnW2"
      },
      "source": [
        "\n",
        "## QR Method\n",
        "\n",
        "If we need to find all the eigenvalues of a matrix $A$, QR method is preferred. QR method is constructed based on the QR factorization of matrix and Gram-Schimidt process. We will discuss the latter two at first."
      ]
    },
    {
      "cell_type": "markdown",
      "metadata": {
        "id": "QvWb3OxmPqwB"
      },
      "source": [
        "\n",
        "### QR Factorization\n",
        "\n",
        "Let $A=\n",
        "\\begin{pmatrix}\n",
        "|& |& & |\\\\\n",
        "\\vec a_1 & \\vec a_2 &\\cdots &\\vec a_n\\\\\n",
        "|& |& & |\n",
        "\\end{pmatrix}$ be linearly independent. The Gram-Schimidt process converts $\\{\\vec a_1,\\vec a_2,\\cdots,\\vec a_n\\}$ to an orthonormal set $\\{\\vec q_1,\\vec q_2,\\cdots,\\vec q_n\\}$. The details are as follows."
      ]
    },
    {
      "cell_type": "markdown",
      "metadata": {
        "id": "KPQLbQGPPrsj"
      },
      "source": [
        "\n",
        "#### Algorithm 5 (Gram-Schimidt process)\n",
        "\n",
        "1. $\\tilde q_1=\\vec a_1$. \n",
        "   * Normalize $\\vec q_1=\\tilde q_1/\\|\\tilde q_1\\|_2$. \n",
        "   * Define $\\alpha_{11}=\\|\\tilde q_1\\|_2$.\n",
        "2. $\\tilde q_2=\\vec a_2-proj_{\\tilde q_1}(\\vec a_2)=\\vec a_2-\\alpha_{12}\\vec q_1$.\n",
        "   * Normalize $\\vec q_2=\\tilde q_2/\\|\\tilde q_2\\|_2$. \n",
        "   * Define $\\alpha_{12}=\\vec q_1^T\\vec a_2$.\n",
        "   * Define $\\alpha_{22}=\\|\\tilde q_2\\|_2$.\n",
        "  \n",
        "3.  $\\tilde q_3=\\vec a_3-proj_{\\tilde q_1}(\\vec a_3)-proj_{\\tilde q_2}(\\vec a_3)=\\vec a_3-\\alpha_{13}\\vec q_1-\\alpha_{23}\\vec q_2$\n",
        "       * Normalize $\\vec q_3=\\tilde q_3/\\|\\tilde q_3\\|_2$. \n",
        "       * Define $\\alpha_{13}=\\vec q_1^T\\vec a_3,\\alpha_{23}=\\vec q_2^T\\vec a_3$.\n",
        "       * Define $\\alpha_{33}=\\|\\tilde q_3\\|_2$.\n",
        "  \n",
        "4. Suppose $\\vec q_1, \\vec q_2,\\cdots,\\vec q_{k-1}$ are constructed. Then\n",
        "   \n",
        "   $\\tilde q_k=\\vec a_k-\\sum_{i=1}^{k-1} proj_{\\tilde q_i}(\\vec a_k)=\\vec a_k-\\sum_{i=1}^{k-1}\\alpha_{ik}\\vec q_i$.\n",
        "   * Normalize $\\vec q_k=\\tilde q_k/\\|\\tilde q_k\\|_2$. \n",
        "   * Define $\\alpha_{jk}=\\vec q_j^T\\vec a_k$ for $j=1,\\cdots,k-1$.\n",
        "   * Define $\\alpha_{kk}=\\|\\tilde q_k\\|_2$.\n",
        "\n",
        "From the above process, we have\n",
        "* $\\vec a_1=\\alpha_{11} \\vec q_1$;\n",
        "* $\\vec a_2=\\alpha_{12} \\vec q_1+\\alpha_{22} \\vec q_2$;\n",
        "* $\\vec a_3=\\alpha_{13} \\vec q_1+\\alpha_{23} \\vec q_2+\\alpha_{33} \\vec q_3$;\n",
        "* ...\n",
        "* $\\vec a_k=\\alpha_{1k} \\vec q_1+\\alpha_{2k} \\vec q_2+\\cdots+\\alpha_{kk} \\vec q_k$.\n",
        "\n"
      ]
    },
    {
      "cell_type": "markdown",
      "metadata": {
        "id": "m1Y_gl4XP69y"
      },
      "source": [
        "\n",
        "Write it in matrix form. For a matrix $A\\in M_{m\\times n}$:\n",
        "\n",
        "$$\n",
        "A=\n",
        "\\begin{pmatrix}\n",
        "|& |& & |\\\\\n",
        "\\vec a_1 & \\vec a_2 &\\cdots &\\vec a_n\\\\\n",
        "|& |& & |\n",
        "\\end{pmatrix}\n",
        "=\n",
        "\\begin{pmatrix}\n",
        "|& |& & |\\\\\n",
        "\\vec q_1 & \\vec q_2 &\\cdots &\\vec q_n\\\\\n",
        "|& |& & |\n",
        "\\end{pmatrix}\n",
        "\\begin{pmatrix}\n",
        "\\alpha_{11}& \\alpha_{12}&\\cdots & \\alpha_{1n}\\\\\n",
        " & \\alpha_{22} &\\cdots &\\alpha_{2n}\\\\\n",
        " & & \\ddots &\\vdots\\\\\n",
        "& & & \\alpha_{nn} \n",
        "\\end{pmatrix}\n",
        "=QR.\n",
        "$$\n",
        "\n",
        "\n",
        "We denote the orthonormal $Q$ matrix to be \n",
        "\n",
        "$$\n",
        "Q=\\begin{pmatrix}\n",
        "|& |& & |\\\\\n",
        "\\vec q_1 & \\vec q_2 &\\cdots &\\vec q_n\\\\\n",
        "|& |& & |\n",
        "\\end{pmatrix}\\in M_{m\\times n},\n",
        "$$\n",
        "\n",
        "and the upper triangular $R$ matrix to be \n",
        "\n",
        "$$\n",
        "R=\\begin{pmatrix}\n",
        "\\alpha_{11}& \\alpha_{12}&\\cdots & \\alpha_{1n}\\\\\n",
        " & \\alpha_{22} &\\cdots &\\alpha_{2n}\\\\\n",
        " & & \\ddots &\\vdots\\\\\n",
        "& & & \\alpha_{nn} \n",
        "\\end{pmatrix}\\in M_{n\\times n},\n",
        "$$\n",
        "\n",
        "The QR factorization of $A$ is simply\n",
        "\n",
        "$$\n",
        "A=QR.\n",
        "$$\n",
        "\n",
        "Remark: If all the diagnoal entries of $R$ are positive, then the  QR factorization is unique.\n"
      ]
    },
    {
      "cell_type": "markdown",
      "metadata": {
        "id": "1y14WQlqPwwZ"
      },
      "source": [
        "\n",
        "#### Algorithm 6 (QR Factorization)\n",
        "\n",
        "Let $A=(\\vec a_1,\\cdots,\\vec a_n)$ be full rank.\n",
        "\n",
        "1. Apply Gram-Schimidt process to obtain an orthonormal set $\\{\\vec q_1,\\vec q_2,\\cdots,\\vec q_n\\}$. \n",
        "2. Compute $\\alpha_{jk}=\\vec q_j^T \\vec a_k$ for $j=1,\\cdots,k$; or simply use $R=Q^TA$.\n",
        "3. Construct QR Factorization\n",
        "$$\n",
        "A=QR=\n",
        "\\begin{pmatrix}\n",
        "|& |& & |\\\\\n",
        "\\vec q_1 & \\vec q_2 &\\cdots &\\vec q_n\\\\\n",
        "|& |& & |\n",
        "\\end{pmatrix}\n",
        "\\begin{pmatrix}\n",
        "\\alpha_{11}& \\alpha_{12}&\\cdots & \\alpha_{1n}\\\\\n",
        " & \\alpha_{22} &\\cdots &\\alpha_{2n}\\\\\n",
        " & & \\ddots &\\vdots\\\\\n",
        "& & & \\alpha_{nn} \n",
        "\\end{pmatrix}.\n",
        "$$"
      ]
    },
    {
      "cell_type": "markdown",
      "metadata": {
        "id": "Egx9fD0WyPow"
      },
      "source": [
        "#### Code demo"
      ]
    },
    {
      "cell_type": "code",
      "execution_count": 9,
      "metadata": {
        "id": "NtPY8oFTy8X5"
      },
      "outputs": [],
      "source": [
        "def proj(v1, v2):\n",
        "    \"\"\"The projection of v2 onto v1\"\"\"\n",
        "    coef = np.dot(v2, v1) / np.dot(v1, v1)\n",
        "    proj = coef*v1\n",
        "    return proj"
      ]
    },
    {
      "cell_type": "code",
      "execution_count": 10,
      "metadata": {
        "id": "IShO8JW2yWIe"
      },
      "outputs": [],
      "source": [
        "def QR_factor(A):\n",
        "  \"\"\"Finding the QR factorization of A (non-singular) via the Gram-Schimidt process.\"\"\"\n",
        "  A=np.transpose(A)\n",
        "  Q=np.zeros((A.shape))\n",
        "\n",
        "  for k in range(A.shape[1]):\n",
        "    q=A[k]\n",
        "    for i in range(k):\n",
        "      q=q-proj(Q[i],A[k])\n",
        "    Q[k]=q/np.linalg.norm(q)\n",
        "   \n",
        "  R= Q@np.transpose(A)\n",
        "  Q=np.transpose(Q)\n",
        "\n",
        "  return Q,R\n",
        "  "
      ]
    },
    {
      "cell_type": "markdown",
      "metadata": {
        "id": "hkPqccUGED7J"
      },
      "source": [
        "Consider the matrix $A=\\begin{pmatrix}\n",
        "5 & -2 & 3\\\\\n",
        "-3 & 9 & 1\\\\\n",
        "2 & -1 & -7\\\\\n",
        "\\end{pmatrix}$."
      ]
    },
    {
      "cell_type": "code",
      "execution_count": 11,
      "metadata": {
        "colab": {
          "base_uri": "https://localhost:8080/"
        },
        "id": "F7Xpdjyd_EQS",
        "outputId": "9ac81d8c-1f60-4b2f-e876-d9d650ae4271"
      },
      "outputs": [
        {
          "data": {
            "text/plain": [
              "(array([[ 0.81110711,  0.11546768,  0.57338685],\n",
              "        [-0.32444284,  0.90449681,  0.27680744],\n",
              "        [ 0.48666426,  0.41055174, -0.77110645]]),\n",
              " array([[ 6.164414  , -4.86664263, -1.45999279],\n",
              "        [ 0.        ,  8.20462001, -3.54742366],\n",
              "        [-0.        , -0.        ,  6.26771142]]))"
            ]
          },
          "execution_count": 11,
          "metadata": {},
          "output_type": "execute_result"
        }
      ],
      "source": [
        "A = np.array([[5,-3,2],[-2,9,-1],[3,1,-7]])\n",
        "np.set_printoptions(suppress=True)\n",
        "QR_factor(A)"
      ]
    },
    {
      "cell_type": "code",
      "execution_count": 12,
      "metadata": {
        "colab": {
          "base_uri": "https://localhost:8080/"
        },
        "id": "gVAiSEO_7WGS",
        "outputId": "83c9e87f-e47f-4b02-95b3-6d0e9c47c6ff"
      },
      "outputs": [
        {
          "data": {
            "text/plain": [
              "(array([[-0.81110711, -0.11546768, -0.57338685],\n",
              "        [ 0.32444284, -0.90449681, -0.27680744],\n",
              "        [-0.48666426, -0.41055174,  0.77110645]]),\n",
              " array([[-6.164414  ,  4.86664263,  1.45999279],\n",
              "        [ 0.        , -8.20462001,  3.54742366],\n",
              "        [ 0.        ,  0.        , -6.26771142]]))"
            ]
          },
          "execution_count": 12,
          "metadata": {},
          "output_type": "execute_result"
        }
      ],
      "source": [
        "# Compare with the built-in numpy function, the results are the same\n",
        "np.linalg.qr(A)"
      ]
    },
    {
      "cell_type": "markdown",
      "metadata": {
        "id": "c6Rp4nvQP_UK"
      },
      "source": [
        "### QR Method for finding eigenvalues\n",
        "\n",
        "Now we come to the QR Method to find all the eigenvalues of a matrix. The algorithm is very simple."
      ]
    },
    {
      "cell_type": "markdown",
      "metadata": {
        "id": "T4Z8xOdWQEQL"
      },
      "source": [
        "#### Algorithm 7 (QR Method)\n",
        "\n",
        "Input: $A\\in M_{n\\times n}(\\mathbb R)$ is a real symmetric non-singular matrix.\n",
        "\n",
        "Output: All eigenvalues of $A$.\n",
        "\n",
        "\n",
        "1. Initilize $A^{(0)}=A$. \n",
        "   * Compute the QR factorization of $A^{(0)}$: $A^{(0)}=Q_0R_0$.\n",
        "   * $A^{(1)}=R_0 Q_0$.\n",
        "\n",
        "2. Assume $A^{(1)},\\cdots,A^{(k)}$ are constructed.\n",
        "   * Compute the QR factorization of $A^{(k)}$: $A^{(k)}=Q_kR_k$.\n",
        "   * $A^{(k+1)}=R_k Q_k$.\n",
        "  \n",
        "3. Repeat Step 2 until convergence.\n",
        "4. The diagnoal entries of $A^{(k)}$ will converge to the eigenvalues of $A$."
      ]
    },
    {
      "cell_type": "markdown",
      "metadata": {
        "id": "iCKouuAqH4sh"
      },
      "source": [
        "#### Code demo"
      ]
    },
    {
      "cell_type": "code",
      "execution_count": 13,
      "metadata": {
        "id": "ZpmD8cmCH8kD"
      },
      "outputs": [],
      "source": [
        "def QR(A,tol=10**(-7),N=100):\n",
        "  \"\"\"Finding all the eigenvalue of A via the QR method.\"\"\"\n",
        "\n",
        "  eigen = np.diagonal(A) # extract the diagonal of A\n",
        "\n",
        "  # iterate for N times \n",
        "  for i in range(N):\n",
        "    # QR iteration\n",
        "    Q_iter, R_iter = QR_factor(A)\n",
        "    A_iter=R_iter@Q_iter\n",
        "    eigen_iter = np.diagonal(A_iter)\n",
        "    A = A_iter\n",
        "\n",
        "    # check for convergence\n",
        "    tol_iter = np.linalg.norm(eigen_iter-eigen)\n",
        "    if(tol_iter < tol): \n",
        "      eigen = eigen_iter\n",
        "      break\n",
        "    eigen = eigen_iter\n",
        "\n",
        "  return A, eigen, i, tol_iter"
      ]
    },
    {
      "cell_type": "markdown",
      "metadata": {
        "id": "sC5woO3jMNPd"
      },
      "source": [
        "Consider the matrix $A=\\begin{pmatrix}\n",
        "0 & -2 \\\\\n",
        "2 & 3 \\\\\n",
        "\\end{pmatrix}$."
      ]
    },
    {
      "cell_type": "code",
      "execution_count": 14,
      "metadata": {
        "colab": {
          "base_uri": "https://localhost:8080/"
        },
        "id": "itox47RVI5QY",
        "outputId": "ac0f47b5-c03c-438c-b393-a270d49ea72d"
      },
      "outputs": [
        {
          "data": {
            "text/plain": [
              "(array([[ 4.        ,  0.00015259],\n",
              "        [ 0.00015259, -1.        ]]),\n",
              " array([ 4., -1.]),\n",
              " 7,\n",
              " 9.878167478432468e-08)"
            ]
          },
          "execution_count": 14,
          "metadata": {},
          "output_type": "execute_result"
        }
      ],
      "source": [
        "A = np.array([[0,2],[2,3]])\n",
        "QR(A)"
      ]
    },
    {
      "cell_type": "markdown",
      "metadata": {
        "id": "ULx8nFzRMcBB"
      },
      "source": [
        "From the code above, the eigenvalues of $A$ are $\\lambda_{1,2}=4,-1$."
      ]
    },
    {
      "cell_type": "markdown",
      "metadata": {
        "id": "UICDb5gFQI-q"
      },
      "source": [
        "\n",
        "At first glimpse, QR Method seems a little bit crazy: we do QR, RQ, QR, RQ,... sequentially, and we get the eigenvalues! How does it happen? Don't be confused, the intuition behind is really simple.\n",
        "\n",
        "We can observe that the QR Method gives a sequence of matrices $\\{A=A^{(0)},A^{(1)},\\cdots,A^{(k)},\\cdots\\}$, where\n",
        "\n",
        "$$\n",
        "A^{(1)}=R_0 Q_0=(Q_0^{-1}Q_0)R_0 Q_0=Q_0^{-1}(Q_0R_0) Q_0=Q_0^{-1}A^{(0)} Q_0.\n",
        "$$\n",
        "\n",
        "So $A^{(1)}$ is similar to $A^{(0)}$, which implies that $A^{(1)}$  has the same set of eigenvalues as $A^{(0)}$, this is because\n",
        "\n",
        "$$\n",
        "det(A^{(1)}-\\lambda I)=det(Q_0^{-1}A^{(0)} Q_0-\\lambda I)=det(Q_0^{-1}(A-\\lambda I)Q_0)=det(A^{(0)}-\\lambda I).\n",
        "$$\n",
        "\n",
        "Similarly, \n",
        "\n",
        "$$\n",
        "A^{(2)}=R_1 Q_1=(Q_1^{-1}Q_1)R_1 Q_1=Q_1^{-1}(Q_1R_1) Q_1=Q_1^{-1}A^{(1)} Q_1.\n",
        "$$\n",
        "\n",
        "Therefore, this sequence of matrices are all similar:\n",
        "\n",
        "$$\n",
        "A=A^{(0)}\\sim A^{(1)}\\sim  A^{(2)} \\sim\\cdots\\sim A^{(k)}\\sim \\cdots\n",
        "$$\n",
        "\n",
        "\n",
        "QR method works for all real matrix, but under certain condition of $A$, the convergence of QR method is guaranteed."
      ]
    },
    {
      "cell_type": "markdown",
      "metadata": {
        "id": "O0G6gVVlQKNj"
      },
      "source": [
        "\n",
        "#### Convergence of QR Method\n",
        "\n",
        "We state the following theorem without proof.\n",
        "\n",
        "**(Theorem 1)** Let $A$ be real symmetric non-singular matrix. Then the sequence of matrices generated by the QR Method converges to an upper triangular matrix; and the diagnoal entries of $A^{(k)}$ will converge to the eigenvalues of $A$. "
      ]
    },
    {
      "cell_type": "markdown",
      "metadata": {
        "id": "wAvkFLEbQQ04"
      },
      "source": [
        "\n",
        "## The Equivalence of Power Method and QR Method\n",
        "\n",
        "There is nothing magic in mathematics. Power Method and QR Method are essentially the same thing. We will prove it here. Before that, note that the most obvious difference between these two methods: Power Method finds the dominating eigenvalue, whereas QR Method finds all the eigenvalues. However, if we make a subtle modification to the Power Method, it will cater for finding all the eigenvalues.\n",
        "\n",
        "\n",
        "In Power method, the initialization $\\vec x^{(0)}=a_1\\vec x_1+a_2\\vec x_2+\\cdots+a_n\\vec x_n,\\ a_1\\neq 0$ is random. Note that although we put a \"constraint\" $a_1\\neq 0$ here, it doesn't affect our random initialization. From probability theory, if we randomly pick a vector $\\vec x^{(0)}=a_1\\vec x_1+a_2\\vec x_2+\\cdots+a_n\\vec x_n$ in $\\mathbb C^n$ the probability of $a_1=0$ is of measure 0. If you are so lucky to encounter the case that $a_1= 0$, no kidding, you should stop doing math and go to buy a lottery.\n",
        "\n",
        "In the imaginary world, however, we can assume this case happens. Consider a matrix $A\\in M_{n\\times n}(\\mathbb C)$ with $n$ eigenvalues $|\\lambda_1|> |\\lambda_2|>  \\cdots>|\\lambda_i|\\cdots>|\\lambda_n|$ and corresponding eigenvectors $\\vec x_1, \\vec x_2, \\cdots,\\vec x_i, \\cdots, \\vec x_n$. "
      ]
    },
    {
      "cell_type": "markdown",
      "metadata": {
        "id": "yfcVq4OOQSd7"
      },
      "source": [
        "\n",
        "### Simultaneous Iteration\n",
        "\n",
        " Imagine that we choose $\\vec x^{(0)}=a_i\\vec x_i+a_{i+1}\\vec x_{i+1}+\\cdots+a_n\\vec x_n,\\ a_i\\neq 0$ (most likely not at random), then the Power iteration is\n",
        "\n",
        "$$\n",
        "\\begin{align*}\n",
        "\\vec x^{(k)}&=\\frac{A^k\\vec x^{(0)}}{\\|A^k\\vec x^{(0)}\\|_{\\infty}}\\\\\n",
        "&=\\frac{a_i\\lambda_i^k\\vec x_i+a_{i+1}\\lambda_{i+1}^k\\vec x_{i+1}+\\cdots+a_n\\lambda_n^k\\vec x_n}{\\|a_i\\lambda_i^k\\vec x_i+a_{i+1}\\lambda_{i+1}^k\\vec x_{i+1}+\\cdots+a_n\\lambda_n^k\\vec x_n\\|_{\\infty}}\\\\\n",
        "&=\\frac{a_i\\lambda_i^k(\\vec x_i+\\sum_{j=i+1}^n\\frac{a_j}{a_i}(\\frac{\\lambda_j}{\\lambda_i})^k\\vec x_j)}{\\|a_i\\lambda_i^k(\\vec x_i+\\sum_{j=i+1}^n\\frac{a_j}{a_i}(\\frac{\\lambda_j}{\\lambda_i})^k\\vec x_j)\\|_{\\infty}}\\\\\n",
        "&\\to \\frac{a_i\\lambda_i^k\\vec x_i}{\\|a_i\\lambda_i^k\\vec x_i\\|_{\\infty}}\\qquad\\text{as }k\\to \\infty\n",
        "\\end{align*}\n",
        "$$\n",
        "\n",
        "so $\\vec x^{(k)}$ will converges to the direction of $\\vec x_i$ (the eigenvector corresponding with $\\lambda_i$), and \n",
        "\n",
        "$$\n",
        "\\begin{align*}\n",
        "\\|A\\vec x^{(k)}\\|_{\\infty} &\\to \\| \\frac{a_i\\lambda_i^k}{|a_i||\\lambda_i^k|\\|\\vec x_i\\|_{\\infty}}\\cdot A\\vec x_i\\|_{\\infty}\\\\\n",
        "&=\\| \\frac{1}{\\|\\vec x_i\\|_{\\infty}}\\cdot \\lambda_i\\vec x_i\\|_{\\infty}\\\\\n",
        "&=|\\lambda_i|\\qquad\\qquad\\text{as }k\\to \\infty\\\\\n",
        "\\end{align*}\n",
        "$$\n",
        "\n",
        "that is, $\\|A\\vec x^{(k)}\\|_{\\infty}$ converges to eigenvalue $|\\lambda_i|$.\n",
        "\n",
        "If we are \"smart\" enough to choose $n$ such initial guess $\\{\\vec x_1^{(0)},\\vec x_2^{(0)},\\cdots,\\vec x_n^{(0)} \\}$ where $\\vec x_i^{(0)}=a_i\\vec x_i+a_{i+1}\\vec x_{i+1}+\\cdots+a_n\\vec x_n,\\ a_i\\neq 0$, which forms a matrix\n",
        "\n",
        "$$\n",
        "X^{(0)}=\n",
        "\\begin{pmatrix}\n",
        "|& |& & |\\\\\n",
        "\\vec x_1^{(0)} & \\vec x_2^{(0)} &\\cdots &\\vec x_n^{(0)}\\\\\n",
        "|& |& & |\n",
        "\\end{pmatrix}\n",
        "\\in M_{n\\times n} (\\mathbb C),\n",
        "$$\n",
        "\n",
        "we can apply the Power method on $X^{(0)}$ (this is equivalent to applying Power method $n$ times to $\\{\\vec x_1^{(0)},\\vec x_2^{(0)},\\cdots,\\vec x_n^{(0)} \\}$).\n",
        "\n",
        "The Power iteration $X^{(k)}=AX^{(k-1)}$ will generate (without normalization)\n",
        "\n",
        "$$\n",
        "A^kX^{(0)}=\n",
        "\\begin{pmatrix}\n",
        "|& |& & |\\\\\n",
        "A^k \\vec x_1^{(0)} & A^k \\vec x_2^{(0)} &\\cdots &A^k \\vec x_n^{(0)}\\\\\n",
        "|& |& & |\n",
        "\\end{pmatrix}\\to \n",
        "\\begin{pmatrix}\n",
        "|& |& & |\\\\\n",
        "k_1 \\vec x_1 & k_2 \\vec x_2 &\\cdots &k_n \\vec x_n\\\\\n",
        "|& |& & |\n",
        "\\end{pmatrix}\n",
        "$$\n",
        "\n",
        "where $A^k \\vec x_i^{(0)}$ $(i=1,\\cdots,n)$ converges to the direction of $\\vec x_i$, the eigenvector corresponding with $\\lambda_i$.\n",
        "\n",
        "\n",
        "If we can make sure that $A^kX^{(0)}$ is orthogonal (after some iterations), then the convergence is guaranteed. How can we ensure the orthogonality of $A^kX^{(0)}$? By QR factorization!\n",
        "\n",
        "Consider an intitial guess $X^{(0)}$ (usually $I_n$).\n",
        "\n",
        "* We take out the \"orthogonal\" part of $X^{(0)}$ by QR factorization: $X^{(0)}=\\overline Q^{(0)}R^{(0)}$ (assume that all diagonal entries of $R^{(0)}$ are positive so that the factorization is unique). \n",
        "* Then we apply the Power method on the extracted orthogonal part $\\overline Q^{(0)}$ to get $W=A\\overline Q^{(0)}$.\n",
        "* Again, we take out the \"orthogonal\" part of $W$ by QR factorization: $W=\\overline Q^{(1)}R^{(1)}$.\n",
        "* Then we apply the Power method on the extracted orthogonal part $\\overline Q^{(1)}$ to get $W=A\\overline Q^{(1)}$.\n",
        "* ...\n",
        "\n",
        "By repeatedly extracting the orthogonal matrix and applying the Power method on the extracted matrix, we generate a sequence of orthogonal matrices $\\overline Q^{(0)},\\overline Q^{(1)},\\cdots$, and the sequence will converge to $\\begin{pmatrix}\n",
        "|& |& & |\\\\\n",
        "k_1 \\vec x_1 & k_2 \\vec x_2 &\\cdots &k_n \\vec x_n\\\\\n",
        "|& |& & |\n",
        "\\end{pmatrix}$ when $k$ tends to infinity.\n",
        "\n",
        "Now we formulate the algorithm.\n"
      ]
    },
    {
      "cell_type": "markdown",
      "metadata": {
        "id": "zUUlR21WMtFd"
      },
      "source": [
        "#### Algorithm 8 (Simultaneous Iteration) \n",
        "\n",
        "Goal: Finding all eigenvalues of a real symmetric matrix $A$.\n",
        "\n",
        "Input: An intitial guess $X^{(0)}=I_n\n",
        "\\begin{pmatrix}\n",
        "|& |& & |\\\\\n",
        "\\vec x_1^{(0)} & \\vec x_2^{(0)} &\\cdots &\\vec x_n^{(0)}\\\\\n",
        "|& |& & |\n",
        "\\end{pmatrix}\n",
        "\\in M_{n\\times n} (\\mathbb C)$.\n",
        "\n",
        "1. Obtain the QR factorization of $X^{(0)}=\\overline Q^{(0)}R^{(0)}$.\n",
        "2. For $k=1,2,\\cdots$, repeat until convergence:\n",
        "   *  Apply Power method on $\\overline Q^{(k-1)}$ to get $W=A\\overline Q^{(k-1)}$.\n",
        "   *  Obtain the QR factorization of $W=\\overline Q^{(k)}R^{(k)}$.\n",
        "   *  Record $A^{(k)}=(\\overline Q^{(k)})^T A \\overline Q^{(k)}$.\n",
        "\n",
        "Output: A sequence of orthogonal matrices $\\overline Q^{(0)},\\overline Q^{(1)},\\cdots$, where\n",
        "\n",
        "$$\n",
        "\\overline Q^{(k)}\\to\n",
        "\\begin{pmatrix}\n",
        "|& |& & |\\\\\n",
        "k_1 \\vec x_1 & k_2 \\vec x_2 &\\cdots &k_n \\vec x_n\\\\\n",
        "|& |& & |\n",
        "\\end{pmatrix}\n",
        "\\qquad\\text{as }\\ k\\to \\infty.\n",
        "$$\n"
      ]
    },
    {
      "cell_type": "markdown",
      "metadata": {
        "id": "5hbKRSQeRJP_"
      },
      "source": [
        "Now we are going to show that Algorithm 8 (Simultaneous Iteration) is equivalent to the QR method we discussed earlier. But to make the two methods comparable, we firstly modify some details in the original QR method."
      ]
    },
    {
      "cell_type": "markdown",
      "metadata": {
        "id": "jm9LLcpdRNn5"
      },
      "source": [
        "### Algorithm 9 (QR Method, a variation) \n",
        "\n",
        "Goal: Finding all eigenvalues of a real symmetric matrix $A$.\n",
        "\n",
        "1. Initilization $A^{(0)}_{QR}=A$.\n",
        "2. For $k=1,2,\\cdots$, repeat until convergence:\n",
        "   * Obtain the QR factorization of $A_{QR}^{(k-1)}=Q_{QR}^{(k)}R_{QR}^{(k)}$.\n",
        "   * Compute $A_{QR}^{(k)}=R_{QR}^{(k)}Q_{QR}^{(k)}$.\n",
        "   * Record $\\overline Q_{QR}^{(k)}=Q_{QR}^{(1)}Q_{QR}^{(2)}\\cdots Q_{QR}^{(k)}$.\n",
        "   * Record $\\overline R_{QR}^{(k)}=R_{QR}^{(k)}R_{QR}^{(k-1)}\\cdots R_{QR}^{(1)}$.\n",
        "\n",
        "Output: A sequence of matrices $A^{(k)}$ and $\\overline Q^{(k)}$.\n",
        "\n"
      ]
    },
    {
      "cell_type": "markdown",
      "metadata": {
        "id": "RjdX1ovsRQM1"
      },
      "source": [
        "\n",
        "### The Equivalence of Simultaneous Iteration and QR Method\n",
        "\n",
        "**(Theorem 2)** *Algorithm 8 (Simultaneous Iteration)* and *Algorithm 9 (QR Method, a variation)* are equivalent. That is, for each $k$, the RHS represents Simultaneous Iteration, and the LHS represents QR Method are the same:\n",
        "\n",
        "1. $A_{QR}^{(k)}=A^{(k)}$;\n",
        "2. $\\overline Q_{QR}^{(k)}=\\overline Q^{(k)}$;\n",
        "3. $\\overline R_{QR}^{(k)}=\\overline R^{(k)}$;\n",
        "4. $A^k=\\overline Q_{QR}^{(k)}\\overline R_{QR}^{(k)}=\\overline Q^{(k)}\\overline R^{(k)}$;\n",
        "5. $(\\overline Q_{QR}^{(k)})^T A \\overline Q_{QR}^{(k)}=(\\overline Q^{(k)})^T A \\overline Q^{(k)}$.\n",
        "\n",
        "The proof is very simple via induction. Just be careful about the notation. We ignore the proof here.\n"
      ]
    }
  ],
  "metadata": {
    "colab": {
      "provenance": [],
      "toc_visible": true
    },
    "kernelspec": {
      "display_name": "Python 3",
      "name": "python3"
    },
    "language_info": {
      "name": "python"
    }
  },
  "nbformat": 4,
  "nbformat_minor": 0
}
